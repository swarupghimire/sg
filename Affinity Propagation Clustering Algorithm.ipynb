{
 "cells": [
  {
   "cell_type": "code",
   "execution_count": 101,
   "metadata": {},
   "outputs": [],
   "source": [
    "import pandas as pd\n",
    "import numpy as np"
   ]
  },
  {
   "cell_type": "markdown",
   "metadata": {},
   "source": [
    "## Creating Data"
   ]
  },
  {
   "cell_type": "code",
   "execution_count": 102,
   "metadata": {},
   "outputs": [
    {
     "data": {
      "text/html": [
       "<div>\n",
       "<style scoped>\n",
       "    .dataframe tbody tr th:only-of-type {\n",
       "        vertical-align: middle;\n",
       "    }\n",
       "\n",
       "    .dataframe tbody tr th {\n",
       "        vertical-align: top;\n",
       "    }\n",
       "\n",
       "    .dataframe thead th {\n",
       "        text-align: right;\n",
       "    }\n",
       "</style>\n",
       "<table border=\"1\" class=\"dataframe\">\n",
       "  <thead>\n",
       "    <tr style=\"text-align: right;\">\n",
       "      <th></th>\n",
       "      <th>Participant</th>\n",
       "      <th>Tax_Rate</th>\n",
       "      <th>Fee</th>\n",
       "      <th>Interest_Rate</th>\n",
       "      <th>Quantity_Limit</th>\n",
       "      <th>Price_Limit</th>\n",
       "    </tr>\n",
       "  </thead>\n",
       "  <tbody>\n",
       "    <tr>\n",
       "      <th>0</th>\n",
       "      <td>Alice</td>\n",
       "      <td>3</td>\n",
       "      <td>4</td>\n",
       "      <td>3</td>\n",
       "      <td>2</td>\n",
       "      <td>1</td>\n",
       "    </tr>\n",
       "    <tr>\n",
       "      <th>1</th>\n",
       "      <td>Bob</td>\n",
       "      <td>4</td>\n",
       "      <td>3</td>\n",
       "      <td>5</td>\n",
       "      <td>1</td>\n",
       "      <td>1</td>\n",
       "    </tr>\n",
       "    <tr>\n",
       "      <th>2</th>\n",
       "      <td>Cary</td>\n",
       "      <td>3</td>\n",
       "      <td>5</td>\n",
       "      <td>3</td>\n",
       "      <td>3</td>\n",
       "      <td>3</td>\n",
       "    </tr>\n",
       "    <tr>\n",
       "      <th>3</th>\n",
       "      <td>Doug</td>\n",
       "      <td>2</td>\n",
       "      <td>1</td>\n",
       "      <td>3</td>\n",
       "      <td>3</td>\n",
       "      <td>2</td>\n",
       "    </tr>\n",
       "    <tr>\n",
       "      <th>4</th>\n",
       "      <td>Edna</td>\n",
       "      <td>1</td>\n",
       "      <td>1</td>\n",
       "      <td>3</td>\n",
       "      <td>2</td>\n",
       "      <td>3</td>\n",
       "    </tr>\n",
       "  </tbody>\n",
       "</table>\n",
       "</div>"
      ],
      "text/plain": [
       "  Participant  Tax_Rate  Fee  Interest_Rate  Quantity_Limit  Price_Limit\n",
       "0       Alice         3    4              3               2            1\n",
       "1         Bob         4    3              5               1            1\n",
       "2        Cary         3    5              3               3            3\n",
       "3        Doug         2    1              3               3            2\n",
       "4        Edna         1    1              3               2            3"
      ]
     },
     "execution_count": 102,
     "metadata": {},
     "output_type": "execute_result"
    }
   ],
   "source": [
    "Participant=['Alice','Bob','Cary','Doug','Edna']\n",
    "Tax_Rate=[3,4,3,2,1]\n",
    "Fee=[4,3,5,1,1]\n",
    "Interest_Rate=[3,5,3,3,3]\n",
    "Quantity_Limit=[2,1,3,3,2]\n",
    "Price_Limit=[1,1,3,2,3]\n",
    "d={'Participant':Participant,'Tax_Rate':Tax_Rate,'Fee':Fee,'Interest_Rate':Interest_Rate,'Quantity_Limit':Quantity_Limit,'Price_Limit':Price_Limit}\n",
    "df=pd.DataFrame(d)\n",
    "df"
   ]
  },
  {
   "cell_type": "markdown",
   "metadata": {},
   "source": [
    "## Transforming to matrix"
   ]
  },
  {
   "cell_type": "code",
   "execution_count": 103,
   "metadata": {},
   "outputs": [],
   "source": [
    "d=df.iloc[:,1:].values"
   ]
  },
  {
   "cell_type": "markdown",
   "metadata": {},
   "source": [
    "## Creating Similarity matrix"
   ]
  },
  {
   "cell_type": "code",
   "execution_count": 104,
   "metadata": {},
   "outputs": [
    {
     "data": {
      "text/plain": [
       "array([[-22.,  -7.,  -6., -12., -17.],\n",
       "       [ -7., -22., -17., -17., -22.],\n",
       "       [ -6., -17., -22., -18., -21.],\n",
       "       [-12., -17., -18., -22.,  -3.],\n",
       "       [-17., -22., -21.,  -3., -22.]])"
      ]
     },
     "execution_count": 104,
     "metadata": {},
     "output_type": "execute_result"
    }
   ],
   "source": [
    "s = np.zeros(d.shape)\n",
    "def similarity_m():\n",
    "    for i in range(d.shape[0]):\n",
    "        for j in range(d.shape[0]):\n",
    "                s[i,j]=-sum((d[i]-d[j])**2)\n",
    "    for i in range(s.shape[0]):\n",
    "                s[i,i]=s.min()\n",
    "    return s\n",
    "similarity_m()"
   ]
  },
  {
   "cell_type": "markdown",
   "metadata": {},
   "source": [
    "## Creating Responsibility matrix"
   ]
  },
  {
   "cell_type": "code",
   "execution_count": 105,
   "metadata": {},
   "outputs": [
    {
     "data": {
      "text/plain": [
       "array([[-16.,  -1.,   1.,  -6., -11.],\n",
       "       [ 10., -15., -10., -10., -15.],\n",
       "       [ 11., -11., -16., -12., -15.],\n",
       "       [ -9., -14., -15., -19.,   9.],\n",
       "       [-14., -19., -18.,  14., -19.]])"
      ]
     },
     "execution_count": 105,
     "metadata": {},
     "output_type": "execute_result"
    }
   ],
   "source": [
    "r = np.zeros(d.shape)\n",
    "a = np.zeros(d.shape)\n",
    "def responsibility_m():\n",
    "    for i in range(d.shape[0]):\n",
    "        for j in range(d.shape[0]):\n",
    "            r[i,j]=s[i,j]-max(np.delete(a[i,:],j)+np.delete(s[i,:],j))\n",
    "    return r\n",
    "responsibility_m()"
   ]
  },
  {
   "cell_type": "markdown",
   "metadata": {},
   "source": [
    "## Creating Availability Matrix"
   ]
  },
  {
   "cell_type": "code",
   "execution_count": 106,
   "metadata": {},
   "outputs": [
    {
     "data": {
      "text/plain": [
       "array([[ 21., -15., -16.,  -5., -10.],\n",
       "       [ -5.,   0., -15.,  -5., -10.],\n",
       "       [ -6., -15.,   1.,  -5., -10.],\n",
       "       [  0., -15., -15.,  14., -19.],\n",
       "       [  0., -15., -15., -19.,   9.]])"
      ]
     },
     "execution_count": 106,
     "metadata": {},
     "output_type": "execute_result"
    }
   ],
   "source": [
    "def availability_m():\n",
    "    for i in range(d.shape[0]):\n",
    "        for j in range(d.shape[0]):\n",
    "            m=np.delete(r[:,j],i)\n",
    "            if i==j:\n",
    "                a[i,j]=sum(m[m>=0])\n",
    "            else:\n",
    "                a[i,j]=min(0,r[j,j]+sum(m[m>=0]))\n",
    "    return a\n",
    "availability_m()"
   ]
  },
  {
   "cell_type": "markdown",
   "metadata": {},
   "source": [
    "## Defining the parameters"
   ]
  },
  {
   "cell_type": "code",
   "execution_count": 107,
   "metadata": {},
   "outputs": [],
   "source": [
    "damp=0.8\n",
    "n_iter=10"
   ]
  },
  {
   "cell_type": "markdown",
   "metadata": {},
   "source": [
    "## Creating Criterion Matrix"
   ]
  },
  {
   "cell_type": "code",
   "execution_count": 108,
   "metadata": {},
   "outputs": [],
   "source": [
    "def criterion_m():\n",
    "    r = np.zeros(d.shape)\n",
    "    a = np.zeros(d.shape)\n",
    "    for i in range(n_iter):\n",
    "        similarity_m()\n",
    "        if i==0:\n",
    "            responsibility_m()\n",
    "            availability_m()\n",
    "        else:\n",
    "            r=(damp*r)+(1-damp)*responsibility_m()\n",
    "            a=(damp*a)+(1-damp)*availability_m()\n",
    "        c=r+a\n",
    "    return c"
   ]
  },
  {
   "cell_type": "markdown",
   "metadata": {},
   "source": [
    "## Forming Cluster"
   ]
  },
  {
   "cell_type": "code",
   "execution_count": 109,
   "metadata": {},
   "outputs": [
    {
     "data": {
      "text/plain": [
       "[0, 0, 0, 3, 3]"
      ]
     },
     "execution_count": 109,
     "metadata": {},
     "output_type": "execute_result"
    }
   ],
   "source": [
    "clusters=[]\n",
    "for i in criterion_m():\n",
    "    clusters.append(np.argmax(i))\n",
    "clusters"
   ]
  }
 ],
 "metadata": {
  "kernelspec": {
   "display_name": "Python 3",
   "language": "python",
   "name": "python3"
  },
  "language_info": {
   "codemirror_mode": {
    "name": "ipython",
    "version": 3
   },
   "file_extension": ".py",
   "mimetype": "text/x-python",
   "name": "python",
   "nbconvert_exporter": "python",
   "pygments_lexer": "ipython3",
   "version": "3.7.0"
  }
 },
 "nbformat": 4,
 "nbformat_minor": 2
}
