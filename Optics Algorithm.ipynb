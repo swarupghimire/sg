{
 "cells": [
  {
   "cell_type": "code",
   "execution_count": 29,
   "metadata": {},
   "outputs": [],
   "source": [
    "import pandas as pd\n",
    "import matplotlib.pyplot as plt"
   ]
  },
  {
   "cell_type": "markdown",
   "metadata": {},
   "source": [
    "## Importing Data"
   ]
  },
  {
   "cell_type": "code",
   "execution_count": 30,
   "metadata": {},
   "outputs": [],
   "source": [
    "from sklearn.datasets import make_blobs\n",
    "X,y = make_blobs(n_samples=500,n_features=2,centers=2,random_state=19)  ### X is the data and y are cluster labels."
   ]
  },
  {
   "cell_type": "markdown",
   "metadata": {},
   "source": [
    "## Creating initial DataFrame"
   ]
  },
  {
   "cell_type": "code",
   "execution_count": 31,
   "metadata": {},
   "outputs": [
    {
     "data": {
      "text/html": [
       "<div>\n",
       "<style scoped>\n",
       "    .dataframe tbody tr th:only-of-type {\n",
       "        vertical-align: middle;\n",
       "    }\n",
       "\n",
       "    .dataframe tbody tr th {\n",
       "        vertical-align: top;\n",
       "    }\n",
       "\n",
       "    .dataframe thead th {\n",
       "        text-align: right;\n",
       "    }\n",
       "</style>\n",
       "<table border=\"1\" class=\"dataframe\">\n",
       "  <thead>\n",
       "    <tr style=\"text-align: right;\">\n",
       "      <th></th>\n",
       "      <th>points</th>\n",
       "      <th>cluster</th>\n",
       "      <th>reach_dist</th>\n",
       "      <th>core_dist</th>\n",
       "    </tr>\n",
       "  </thead>\n",
       "  <tbody>\n",
       "    <tr>\n",
       "      <th>0</th>\n",
       "      <td>[-4.5909383873448295, -6.043818587917302]</td>\n",
       "      <td>0</td>\n",
       "      <td>1000</td>\n",
       "      <td>1000</td>\n",
       "    </tr>\n",
       "    <tr>\n",
       "      <th>1</th>\n",
       "      <td>[-4.883593256800025, -8.496874685265519]</td>\n",
       "      <td>0</td>\n",
       "      <td>1000</td>\n",
       "      <td>1000</td>\n",
       "    </tr>\n",
       "    <tr>\n",
       "      <th>2</th>\n",
       "      <td>[-8.035884035174696, 4.210129616672425]</td>\n",
       "      <td>0</td>\n",
       "      <td>1000</td>\n",
       "      <td>1000</td>\n",
       "    </tr>\n",
       "    <tr>\n",
       "      <th>3</th>\n",
       "      <td>[-8.924876431092317, 6.281052315876352]</td>\n",
       "      <td>0</td>\n",
       "      <td>1000</td>\n",
       "      <td>1000</td>\n",
       "    </tr>\n",
       "    <tr>\n",
       "      <th>4</th>\n",
       "      <td>[-7.635452157309633, 6.406502874004334]</td>\n",
       "      <td>0</td>\n",
       "      <td>1000</td>\n",
       "      <td>1000</td>\n",
       "    </tr>\n",
       "  </tbody>\n",
       "</table>\n",
       "</div>"
      ],
      "text/plain": [
       "                                      points  cluster  reach_dist  core_dist\n",
       "0  [-4.5909383873448295, -6.043818587917302]        0        1000       1000\n",
       "1   [-4.883593256800025, -8.496874685265519]        0        1000       1000\n",
       "2    [-8.035884035174696, 4.210129616672425]        0        1000       1000\n",
       "3    [-8.924876431092317, 6.281052315876352]        0        1000       1000\n",
       "4    [-7.635452157309633, 6.406502874004334]        0        1000       1000"
      ]
     },
     "execution_count": 31,
     "metadata": {},
     "output_type": "execute_result"
    }
   ],
   "source": [
    "dict={}\n",
    "points=list(X)\n",
    "cluster=[0 for i in range(len(X))]\n",
    "reach_dist=[1000 for i in range(len(X))]\n",
    "core_dist=[1000 for i in range(len(X))]\n",
    "dict={'points':points,'cluster':cluster,'reach_dist':reach_dist,'core_dist':core_dist}\n",
    "df=pd.DataFrame(dict)\n",
    "df.head()"
   ]
  },
  {
   "cell_type": "markdown",
   "metadata": {},
   "source": [
    "## Defining Parameters"
   ]
  },
  {
   "cell_type": "code",
   "execution_count": 32,
   "metadata": {},
   "outputs": [],
   "source": [
    "eps=5\n",
    "min_pt=3"
   ]
  },
  {
   "cell_type": "markdown",
   "metadata": {},
   "source": [
    "## Creating Neighbourhood Function"
   ]
  },
  {
   "cell_type": "code",
   "execution_count": 33,
   "metadata": {},
   "outputs": [],
   "source": [
    "def euc_dis(rowi, rowj):\n",
    "        sum = 0\n",
    "        for i in range(len(rowi)):\n",
    "            sum += (rowj[i] - rowi[i])**2\n",
    "        return (sum**(1/2))\n",
    "def ngh(p):\n",
    "    n_points={'point_index':[],'dis':[]}\n",
    "    q=df['points'][df.index!=p]\n",
    "    for index,other_point in zip(q.index,q):\n",
    "        d=euc_dis(X[p],other_point)\n",
    "        if (d<eps):            \n",
    "            n_points['point_index'].append(index)\n",
    "            n_points['dis'].append(d)\n",
    "    return pd.DataFrame(n_points)"
   ]
  },
  {
   "cell_type": "markdown",
   "metadata": {},
   "source": [
    "## Updating the Core distance, Reachability distance and Cluster "
   ]
  },
  {
   "cell_type": "code",
   "execution_count": 34,
   "metadata": {},
   "outputs": [],
   "source": [
    "def update():\n",
    "    cluster = 0\n",
    "    for i in range(df.shape[0]):\n",
    "        l = ngh(i)\n",
    "        l = l.sort_values(by=['dis'])\n",
    "        if(df.iloc[i,1]==0 and l.shape[0]>=min_pt):\n",
    "            df.iloc[i,3]=l.iloc[min_pt-1,1]\n",
    "            cluster +=1\n",
    "            df.iloc[i,1]=cluster\n",
    "            for j in range(l.shape[0]):\n",
    "                R_dis = max(df.iloc[i,3],l.iloc[j,1])\n",
    "                if(R_dis<df.iloc[l.iloc[j,0],2]):\n",
    "                    df.iloc[l.iloc[j,0],2] = R_dis\n",
    "                m = ngh(j)\n",
    "                m = m.sort_values(by=['dis'])\n",
    "                if(df.iloc[l.iloc[j,0],1]==0 and m.shape[0]>=min_pt):\n",
    "                        df.iloc[l.iloc[j,0],3]=m.iloc[min_pt-1,1]\n",
    "                        df.iloc[l.iloc[j,0],1]=cluster\n",
    "                for h in range(m.shape[0]):                    \n",
    "                    R_dis=max(df.iloc[i,3],m.iloc[h,1])\n",
    "                    if(R_dis<df.iloc[m.iloc[h,0],2]):\n",
    "                        df.iloc[m.iloc[h,0],2] = R_dis\n",
    "update()"
   ]
  },
  {
   "cell_type": "markdown",
   "metadata": {},
   "source": [
    "## Updated Dataframe"
   ]
  },
  {
   "cell_type": "code",
   "execution_count": 35,
   "metadata": {},
   "outputs": [
    {
     "data": {
      "text/html": [
       "<div>\n",
       "<style scoped>\n",
       "    .dataframe tbody tr th:only-of-type {\n",
       "        vertical-align: middle;\n",
       "    }\n",
       "\n",
       "    .dataframe tbody tr th {\n",
       "        vertical-align: top;\n",
       "    }\n",
       "\n",
       "    .dataframe thead th {\n",
       "        text-align: right;\n",
       "    }\n",
       "</style>\n",
       "<table border=\"1\" class=\"dataframe\">\n",
       "  <thead>\n",
       "    <tr style=\"text-align: right;\">\n",
       "      <th></th>\n",
       "      <th>points</th>\n",
       "      <th>cluster</th>\n",
       "      <th>reach_dist</th>\n",
       "      <th>core_dist</th>\n",
       "    </tr>\n",
       "  </thead>\n",
       "  <tbody>\n",
       "    <tr>\n",
       "      <th>0</th>\n",
       "      <td>[-4.5909383873448295, -6.043818587917302]</td>\n",
       "      <td>1</td>\n",
       "      <td>0.208016</td>\n",
       "      <td>0.238701</td>\n",
       "    </tr>\n",
       "    <tr>\n",
       "      <th>1</th>\n",
       "      <td>[-4.883593256800025, -8.496874685265519]</td>\n",
       "      <td>1</td>\n",
       "      <td>0.208016</td>\n",
       "      <td>0.221536</td>\n",
       "    </tr>\n",
       "    <tr>\n",
       "      <th>2</th>\n",
       "      <td>[-8.035884035174696, 4.210129616672425]</td>\n",
       "      <td>2</td>\n",
       "      <td>0.208016</td>\n",
       "      <td>0.208016</td>\n",
       "    </tr>\n",
       "    <tr>\n",
       "      <th>3</th>\n",
       "      <td>[-8.924876431092317, 6.281052315876352]</td>\n",
       "      <td>2</td>\n",
       "      <td>0.269105</td>\n",
       "      <td>0.456311</td>\n",
       "    </tr>\n",
       "    <tr>\n",
       "      <th>4</th>\n",
       "      <td>[-7.635452157309633, 6.406502874004334]</td>\n",
       "      <td>2</td>\n",
       "      <td>0.208016</td>\n",
       "      <td>0.111266</td>\n",
       "    </tr>\n",
       "  </tbody>\n",
       "</table>\n",
       "</div>"
      ],
      "text/plain": [
       "                                      points  cluster  reach_dist  core_dist\n",
       "0  [-4.5909383873448295, -6.043818587917302]        1    0.208016   0.238701\n",
       "1   [-4.883593256800025, -8.496874685265519]        1    0.208016   0.221536\n",
       "2    [-8.035884035174696, 4.210129616672425]        2    0.208016   0.208016\n",
       "3    [-8.924876431092317, 6.281052315876352]        2    0.269105   0.456311\n",
       "4    [-7.635452157309633, 6.406502874004334]        2    0.208016   0.111266"
      ]
     },
     "execution_count": 35,
     "metadata": {},
     "output_type": "execute_result"
    }
   ],
   "source": [
    "df.head()"
   ]
  },
  {
   "cell_type": "markdown",
   "metadata": {},
   "source": [
    "## Final Plotting"
   ]
  },
  {
   "cell_type": "code",
   "execution_count": 36,
   "metadata": {},
   "outputs": [
    {
     "data": {
      "text/plain": [
       "<matplotlib.collections.PathCollection at 0x83b3dceb70>"
      ]
     },
     "execution_count": 36,
     "metadata": {},
     "output_type": "execute_result"
    },
    {
     "data": {
      "image/png": "[encoded data removed]",
      "text/plain": [
       "<Figure size 432x288 with 1 Axes>"
      ]
     },
     "metadata": {
      "needs_background": "light"
     },
     "output_type": "display_data"
    }
   ],
   "source": [
    "plt.scatter(X[:,0],X[:,1],c=df['cluster'])"
   ]
  }
 ],
 "metadata": {
  "kernelspec": {
   "display_name": "Python 3",
   "language": "python",
   "name": "python3"
  },
  "language_info": {
   "codemirror_mode": {
    "name": "ipython",
    "version": 3
   },
   "file_extension": ".py",
   "mimetype": "text/x-python",
   "name": "python",
   "nbconvert_exporter": "python",
   "pygments_lexer": "ipython3",
   "version": "3.7.0"
  }
 },
 "nbformat": 4,
 "nbformat_minor": 2
}
