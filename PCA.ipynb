{
 "cells": [
  {
   "cell_type": "markdown",
   "metadata": {},
   "source": [
    "## Importing Libraries"
   ]
  },
  {
   "cell_type": "code",
   "execution_count": 1,
   "metadata": {},
   "outputs": [],
   "source": [
    "import pandas as pd\n",
    "import numpy as np\n",
    "import matplotlib.pyplot as plt"
   ]
  },
  {
   "cell_type": "markdown",
   "metadata": {},
   "source": [
    "## Importing data"
   ]
  },
  {
   "cell_type": "code",
   "execution_count": 2,
   "metadata": {},
   "outputs": [],
   "source": [
    "from sklearn.datasets import make_blobs\n",
    "X,y = make_blobs(n_samples=50,n_features=10,centers=2,random_state=19)"
   ]
  },
  {
   "cell_type": "markdown",
   "metadata": {},
   "source": [
    "## Creating PCA module"
   ]
  },
  {
   "cell_type": "code",
   "execution_count": 5,
   "metadata": {},
   "outputs": [],
   "source": [
    "class PCA():\n",
    "    def __init__(self,X,k):\n",
    "        self.X=X\n",
    "        self.k=k\n",
    "    def mu(self):\n",
    "        m=np.zeros((self.X.shape[1],1))   \n",
    "        for i in range(self.X.shape[1]):\n",
    "            m[i]=(1/self.X.shape[0])*sum(X[:,i])\n",
    "            n=np.ones((50,1))\n",
    "            M=n.dot(m.T)\n",
    "        return M\n",
    "    \n",
    "    def A_mat(self):\n",
    "        M=self.mu()\n",
    "        A=self.X-M\n",
    "        return A\n",
    "    def Sigma(self):\n",
    "        A=self.A_mat()\n",
    "        sigma=(A.T.dot(A))/(self.X.shape[0])\n",
    "        return sigma\n",
    "    def Reduced_features(self):\n",
    "        sigma=self.Sigma()\n",
    "        eig_val,eig_vec=np.linalg.eig(sigma)\n",
    "        Eig_Vec=eig_vec[:,:self.k]\n",
    "        return Eig_Vec\n",
    "    def Transform_data(self):\n",
    "        Eig_Vec=self.Reduced_features()\n",
    "        Y=self.X.dot(Eig_Vec)\n",
    "        return Y"
   ]
  },
  {
   "cell_type": "markdown",
   "metadata": {},
   "source": [
    "## Result"
   ]
  },
  {
   "cell_type": "code",
   "execution_count": 11,
   "metadata": {},
   "outputs": [
    {
     "data": {
      "text/plain": [
       "array([[ 6.63126535e+00,  2.49034467e+00],\n",
       "       [ 6.68837914e+00, -3.42690493e+00],\n",
       "       [ 6.37990773e+00, -2.25803036e-02],\n",
       "       [-1.61713365e+01,  4.48275917e-03],\n",
       "       [-1.56813205e+01,  8.29205284e-01],\n",
       "       [-1.62147541e+01, -1.58715243e-01],\n",
       "       [ 4.95441743e+00, -1.24522989e+00],\n",
       "       [-1.48103928e+01, -3.51483320e-01],\n",
       "       [-1.54606005e+01,  1.13463661e-01],\n",
       "       [-1.55579795e+01,  3.68327241e-02]])"
      ]
     },
     "execution_count": 11,
     "metadata": {},
     "output_type": "execute_result"
    }
   ],
   "source": [
    "P=PCA(X,2)\n",
    "P.Transform_data()[:10]"
   ]
  },
  {
   "cell_type": "code",
   "execution_count": 7,
   "metadata": {},
   "outputs": [
    {
     "data": {
      "text/plain": [
       "(50, 2)"
      ]
     },
     "execution_count": 7,
     "metadata": {},
     "output_type": "execute_result"
    }
   ],
   "source": [
    "(P.Transform_data()).shape"
   ]
  }
 ],
 "metadata": {
  "kernelspec": {
   "display_name": "Python 3",
   "language": "python",
   "name": "python3"
  },
  "language_info": {
   "codemirror_mode": {
    "name": "ipython",
    "version": 3
   },
   "file_extension": ".py",
   "mimetype": "text/x-python",
   "name": "python",
   "nbconvert_exporter": "python",
   "pygments_lexer": "ipython3",
   "version": "3.7.0"
  }
 },
 "nbformat": 4,
 "nbformat_minor": 2
}
