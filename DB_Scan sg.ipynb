{
 "cells": [
  {
   "cell_type": "code",
   "execution_count": 1,
   "metadata": {},
   "outputs": [],
   "source": [
    "import pandas as pd\n",
    "import numpy as np\n",
    "import matplotlib.pyplot as plt"
   ]
  },
  {
   "cell_type": "code",
   "execution_count": 2,
   "metadata": {},
   "outputs": [],
   "source": [
    "from sklearn.datasets import make_blobs\n",
    "centers = [[1, 1], [-1, -1], [1, -1]]\n",
    "X, y = make_blobs(n_samples=100, centers=centers,random_state=2,cluster_std=0.2)"
   ]
  },
  {
   "cell_type": "code",
   "execution_count": 9,
   "metadata": {},
   "outputs": [],
   "source": [
    "class DB_Scan(object):\n",
    "    def __init__(self,X,eps,min_pts):\n",
    "        self.X=X\n",
    "        self.eps=eps\n",
    "        self.min_pts=min_pts\n",
    "        d={}\n",
    "        points=list(self.X)\n",
    "        cluster=[0 for i in range(len(self.X))]\n",
    "        d={'points':points,'cluster':cluster}\n",
    "        self.df=pd.DataFrame(d)\n",
    "    \n",
    "    def euc_dis(self,rowi, rowj):\n",
    "        ed = 0\n",
    "        for i in range(len(rowi)):\n",
    "            ed += (rowj[i] - rowi[i])**2\n",
    "        return (ed**(1/2))\n",
    "\n",
    "    def ngh(self,p):\n",
    "        n_points={'point_index':[],'dis':[]}\n",
    "        q=self.df['points'][self.df.index!=p]\n",
    "        for index,other_point in zip(q.index,q):\n",
    "            d=self.euc_dis(self.X[p],other_point)\n",
    "            if (d<self.eps):            \n",
    "                n_points['point_index'].append(index)\n",
    "                n_points['dis'].append(d)\n",
    "        return pd.DataFrame(n_points)\n",
    "    \n",
    "    def update(self):\n",
    "        cluster=0\n",
    "        for i in range(self.df.shape[0]):\n",
    "            if self.df.iloc[i,1]==0:\n",
    "                l=self.ngh(i)\n",
    "                if (l.shape[0]>self.min_pts):\n",
    "                    cluster=cluster+1\n",
    "                    self.df.iloc[i,1]=cluster\n",
    "                    for j in range(l.shape[0]):\n",
    "                         self.df.iloc[l.iloc[j,0],1]=cluster"
   ]
  },
  {
   "cell_type": "code",
   "execution_count": 10,
   "metadata": {},
   "outputs": [
    {
     "data": {
      "text/html": [
       "<div>\n",
       "<style scoped>\n",
       "    .dataframe tbody tr th:only-of-type {\n",
       "        vertical-align: middle;\n",
       "    }\n",
       "\n",
       "    .dataframe tbody tr th {\n",
       "        vertical-align: top;\n",
       "    }\n",
       "\n",
       "    .dataframe thead th {\n",
       "        text-align: right;\n",
       "    }\n",
       "</style>\n",
       "<table border=\"1\" class=\"dataframe\">\n",
       "  <thead>\n",
       "    <tr style=\"text-align: right;\">\n",
       "      <th></th>\n",
       "      <th>points</th>\n",
       "      <th>cluster</th>\n",
       "    </tr>\n",
       "  </thead>\n",
       "  <tbody>\n",
       "    <tr>\n",
       "      <th>0</th>\n",
       "      <td>[0.9372983606013182, 1.1542023476138823]</td>\n",
       "      <td>1</td>\n",
       "    </tr>\n",
       "    <tr>\n",
       "      <th>1</th>\n",
       "      <td>[-1.1306500535584072, -0.831508743685732]</td>\n",
       "      <td>2</td>\n",
       "    </tr>\n",
       "    <tr>\n",
       "      <th>2</th>\n",
       "      <td>[1.1005762834316086, 0.7509423826785537]</td>\n",
       "      <td>1</td>\n",
       "    </tr>\n",
       "    <tr>\n",
       "      <th>3</th>\n",
       "      <td>[-0.8609760789906017, -1.4066933092245226]</td>\n",
       "      <td>2</td>\n",
       "    </tr>\n",
       "    <tr>\n",
       "      <th>4</th>\n",
       "      <td>[1.0730107032881682, -0.8451835933190602]</td>\n",
       "      <td>3</td>\n",
       "    </tr>\n",
       "  </tbody>\n",
       "</table>\n",
       "</div>"
      ],
      "text/plain": [
       "                                       points  cluster\n",
       "0    [0.9372983606013182, 1.1542023476138823]        1\n",
       "1   [-1.1306500535584072, -0.831508743685732]        2\n",
       "2    [1.1005762834316086, 0.7509423826785537]        1\n",
       "3  [-0.8609760789906017, -1.4066933092245226]        2\n",
       "4   [1.0730107032881682, -0.8451835933190602]        3"
      ]
     },
     "execution_count": 10,
     "metadata": {},
     "output_type": "execute_result"
    }
   ],
   "source": [
    "db = DB_Scan(X,1,5)\n",
    "db.update()\n",
    "db.df.head()"
   ]
  },
  {
   "cell_type": "code",
   "execution_count": 12,
   "metadata": {},
   "outputs": [
    {
     "data": {
      "text/plain": [
       "<matplotlib.collections.PathCollection at 0x5b482f6ac8>"
      ]
     },
     "execution_count": 12,
     "metadata": {},
     "output_type": "execute_result"
    },
    {
     "data": {
      "image/png": "[encoded data removed]",
      "text/plain": [
       "<Figure size 432x288 with 1 Axes>"
      ]
     },
     "metadata": {
      "needs_background": "light"
     },
     "output_type": "display_data"
    }
   ],
   "source": [
    "plt.scatter(X[:,0],X[:,1],c=db.df['cluster'])"
   ]
  }
 ],
 "metadata": {
  "kernelspec": {
   "display_name": "Python 3",
   "language": "python",
   "name": "python3"
  },
  "language_info": {
   "codemirror_mode": {
    "name": "ipython",
    "version": 3
   },
   "file_extension": ".py",
   "mimetype": "text/x-python",
   "name": "python",
   "nbconvert_exporter": "python",
   "pygments_lexer": "ipython3",
   "version": "3.7.0"
  }
 },
 "nbformat": 4,
 "nbformat_minor": 2
}
